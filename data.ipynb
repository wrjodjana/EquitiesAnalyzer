{
 "cells": [
  {
   "cell_type": "code",
   "execution_count": 1,
   "metadata": {},
   "outputs": [],
   "source": [
    "import pandas as pd\n",
    "import matplotlib.pyplot as plt\n",
    "import yfinance as yf\n",
    "from datetime import datetime\n",
    "from pandas.tseries.offsets import BDay\n",
    "import plotly.graph_objects as go"
   ]
  },
  {
   "cell_type": "markdown",
   "metadata": {},
   "source": [
    "### Load Data"
   ]
  },
  {
   "cell_type": "code",
   "execution_count": 2,
   "metadata": {},
   "outputs": [],
   "source": [
    "snp = yf.Ticker(\"^GSPC\")\n",
    "nvidia = yf.Ticker(\"NVDA\")"
   ]
  },
  {
   "cell_type": "code",
   "execution_count": 3,
   "metadata": {},
   "outputs": [
    {
     "data": {
      "text/plain": [
       "{'maxAge': 86400,\n",
       " 'priceHint': 2,\n",
       " 'previousClose': 5235.48,\n",
       " 'open': 5243.21,\n",
       " 'dayLow': 5191.68,\n",
       " 'dayHigh': 5280.33,\n",
       " 'regularMarketPreviousClose': 5235.48,\n",
       " 'regularMarketOpen': 5243.21,\n",
       " 'regularMarketDayLow': 5191.68,\n",
       " 'regularMarketDayHigh': 5280.33,\n",
       " 'volume': 3930922000,\n",
       " 'regularMarketVolume': 3930922000,\n",
       " 'averageVolume': 3970607777,\n",
       " 'averageVolume10days': 3794282000,\n",
       " 'averageDailyVolume10Day': 3794282000,\n",
       " 'bid': 5224.07,\n",
       " 'ask': 5328.88,\n",
       " 'fiftyTwoWeekLow': 4103.78,\n",
       " 'fiftyTwoWeekHigh': 5341.88,\n",
       " 'fiftyDayAverage': 5181.0024,\n",
       " 'twoHundredDayAverage': 4773.8457,\n",
       " 'currency': 'USD',\n",
       " 'exchange': 'SNP',\n",
       " 'quoteType': 'INDEX',\n",
       " 'symbol': '^GSPC',\n",
       " 'underlyingSymbol': '^GSPC',\n",
       " 'shortName': 'S&P 500',\n",
       " 'longName': 'S&P 500',\n",
       " 'firstTradeDateEpochUtc': -1325583000,\n",
       " 'timeZoneFullName': 'America/New_York',\n",
       " 'timeZoneShortName': 'EDT',\n",
       " 'uuid': '8ffd55d1-3d1d-3733-a480-56768bc708e6',\n",
       " 'messageBoardId': 'finmb_INDEXGSPC',\n",
       " 'gmtOffSetMilliseconds': -14400000,\n",
       " 'trailingPegRatio': None}"
      ]
     },
     "execution_count": 3,
     "metadata": {},
     "output_type": "execute_result"
    }
   ],
   "source": [
    "snp.info"
   ]
  },
  {
   "cell_type": "code",
   "execution_count": 4,
   "metadata": {},
   "outputs": [
    {
     "data": {
      "text/plain": [
       "{'address1': '2788 San Tomas Expressway',\n",
       " 'city': 'Santa Clara',\n",
       " 'state': 'CA',\n",
       " 'zip': '95051',\n",
       " 'country': 'United States',\n",
       " 'phone': '408 486 2000',\n",
       " 'website': 'https://www.nvidia.com',\n",
       " 'industry': 'Semiconductors',\n",
       " 'industryKey': 'semiconductors',\n",
       " 'industryDisp': 'Semiconductors',\n",
       " 'sector': 'Technology',\n",
       " 'sectorKey': 'technology',\n",
       " 'sectorDisp': 'Technology',\n",
       " 'longBusinessSummary': \"NVIDIA Corporation provides graphics and compute and networking solutions in the United States, Taiwan, China, Hong Kong, and internationally. The Graphics segment offers GeForce GPUs for gaming and PCs, the GeForce NOW game streaming service and related infrastructure, and solutions for gaming platforms; Quadro/NVIDIA RTX GPUs for enterprise workstation graphics; virtual GPU or vGPU software for cloud-based visual and virtual computing; automotive platforms for infotainment systems; and Omniverse software for building and operating metaverse and 3D internet applications. The Compute & Networking segment comprises Data Center computing platforms and end-to-end networking platforms, including Quantum for InfiniBand and Spectrum for Ethernet; NVIDIA DRIVE automated-driving platform and automotive development agreements; Jetson robotics and other embedded platforms; NVIDIA AI Enterprise and other software; and DGX Cloud software and services. The company's products are used in gaming, professional visualization, data center, and automotive markets. It sells its products to original equipment manufacturers, original device manufacturers, system integrators and distributors, independent software vendors, cloud service providers, consumer internet companies, add-in board manufacturers, distributors, automotive manufacturers and tier-1 automotive suppliers, and other ecosystem participants. NVIDIA Corporation was incorporated in 1993 and is headquartered in Santa Clara, California.\",\n",
       " 'fullTimeEmployees': 29600,\n",
       " 'companyOfficers': [{'maxAge': 1,\n",
       "   'name': 'Mr. Jen-Hsun  Huang',\n",
       "   'age': 60,\n",
       "   'title': 'Co-Founder, CEO, President & Director',\n",
       "   'yearBorn': 1963,\n",
       "   'fiscalYear': 2024,\n",
       "   'totalPay': 7491487,\n",
       "   'exercisedValue': 217327152,\n",
       "   'unexercisedValue': 0},\n",
       "  {'maxAge': 1,\n",
       "   'name': 'Ms. Colette M. Kress',\n",
       "   'age': 56,\n",
       "   'title': 'Executive VP & CFO',\n",
       "   'yearBorn': 1967,\n",
       "   'fiscalYear': 2024,\n",
       "   'totalPay': 1510765,\n",
       "   'exercisedValue': 0,\n",
       "   'unexercisedValue': 0},\n",
       "  {'maxAge': 1,\n",
       "   'name': 'Ms. Debora  Shoquist',\n",
       "   'age': 68,\n",
       "   'title': 'Executive Vice President of Operations',\n",
       "   'yearBorn': 1955,\n",
       "   'fiscalYear': 2024,\n",
       "   'totalPay': 1371266,\n",
       "   'exercisedValue': 0,\n",
       "   'unexercisedValue': 0},\n",
       "  {'maxAge': 1,\n",
       "   'name': 'Mr. Timothy S. Teter',\n",
       "   'age': 56,\n",
       "   'title': 'Executive VP, General Counsel & Secretary',\n",
       "   'yearBorn': 1967,\n",
       "   'fiscalYear': 2024,\n",
       "   'totalPay': 1360939,\n",
       "   'exercisedValue': 0,\n",
       "   'unexercisedValue': 0},\n",
       "  {'maxAge': 1,\n",
       "   'name': 'Mr. Ajay K. Puri',\n",
       "   'age': 68,\n",
       "   'title': 'Executive Vice President of Worldwide Field Operations',\n",
       "   'yearBorn': 1955,\n",
       "   'fiscalYear': 2024,\n",
       "   'totalPay': 2295097,\n",
       "   'exercisedValue': 0,\n",
       "   'unexercisedValue': 0},\n",
       "  {'maxAge': 1,\n",
       "   'name': 'Mr. Chris A. Malachowsky',\n",
       "   'title': 'Co-Founder',\n",
       "   'fiscalYear': 2024,\n",
       "   'totalPay': 320000,\n",
       "   'exercisedValue': 0,\n",
       "   'unexercisedValue': 0},\n",
       "  {'maxAge': 1,\n",
       "   'name': 'Mr. Donald F. Robertson Jr.',\n",
       "   'age': 54,\n",
       "   'title': 'VP & Chief Accounting Officer',\n",
       "   'yearBorn': 1969,\n",
       "   'fiscalYear': 2024,\n",
       "   'exercisedValue': 0,\n",
       "   'unexercisedValue': 0},\n",
       "  {'maxAge': 1,\n",
       "   'name': 'Prof. William J. Dally Ph.D.',\n",
       "   'age': 62,\n",
       "   'title': 'Chief Scientist & Senior VP of Research',\n",
       "   'yearBorn': 1961,\n",
       "   'fiscalYear': 2024,\n",
       "   'exercisedValue': 0,\n",
       "   'unexercisedValue': 0},\n",
       "  {'maxAge': 1,\n",
       "   'name': 'Ms. Simona  Jankowski C.F.A., J.D.',\n",
       "   'title': 'Vice President of Investor Relations',\n",
       "   'fiscalYear': 2024,\n",
       "   'exercisedValue': 0,\n",
       "   'unexercisedValue': 0},\n",
       "  {'maxAge': 1,\n",
       "   'name': 'Mr. Robert  Sherbin',\n",
       "   'age': 64,\n",
       "   'title': 'Vice President of Corporate Communications',\n",
       "   'yearBorn': 1959,\n",
       "   'fiscalYear': 2024,\n",
       "   'exercisedValue': 0,\n",
       "   'unexercisedValue': 0}],\n",
       " 'auditRisk': 7,\n",
       " 'boardRisk': 10,\n",
       " 'compensationRisk': 1,\n",
       " 'shareHolderRightsRisk': 6,\n",
       " 'overallRisk': 7,\n",
       " 'governanceEpochDate': 1717200000,\n",
       " 'compensationAsOfEpochDate': 1735603200,\n",
       " 'irWebsite': 'http://phx.corporate-ir.net/phoenix.zhtml?c=116466&p=irol-IRHome',\n",
       " 'maxAge': 86400,\n",
       " 'priceHint': 2,\n",
       " 'previousClose': 1105.0,\n",
       " 'open': 1125.13,\n",
       " 'dayLow': 1069.4,\n",
       " 'dayHigh': 1127.17,\n",
       " 'regularMarketPreviousClose': 1105.0,\n",
       " 'regularMarketOpen': 1125.13,\n",
       " 'regularMarketDayLow': 1069.4,\n",
       " 'regularMarketDayHigh': 1127.17,\n",
       " 'dividendRate': 0.4,\n",
       " 'dividendYield': 0.0004,\n",
       " 'exDividendDate': 1718064000,\n",
       " 'payoutRatio': 0.0094,\n",
       " 'fiveYearAvgDividendYield': 0.12,\n",
       " 'beta': 1.749,\n",
       " 'trailingPE': 64.11286,\n",
       " 'forwardPE': 30.743969,\n",
       " 'volume': 60482557,\n",
       " 'regularMarketVolume': 60482557,\n",
       " 'averageVolume': 49792241,\n",
       " 'averageVolume10days': 51269680,\n",
       " 'averageDailyVolume10Day': 51269680,\n",
       " 'bid': 1094.49,\n",
       " 'ask': 1096.66,\n",
       " 'bidSize': 100,\n",
       " 'askSize': 800,\n",
       " 'marketCap': 2696785428480,\n",
       " 'fiftyTwoWeekLow': 373.56,\n",
       " 'fiftyTwoWeekHigh': 1158.19,\n",
       " 'priceToSalesTrailing12Months': 33.805317,\n",
       " 'fiftyDayAverage': 911.2446,\n",
       " 'twoHundredDayAverage': 639.34814,\n",
       " 'trailingAnnualDividendRate': 0.16,\n",
       " 'trailingAnnualDividendYield': 0.00014479637,\n",
       " 'currency': 'USD',\n",
       " 'enterpriseValue': 2678717415424,\n",
       " 'profitMargins': 0.53398,\n",
       " 'floatShares': 2361747360,\n",
       " 'sharesOutstanding': 2459830016,\n",
       " 'sharesShort': 27890572,\n",
       " 'sharesShortPriorMonth': 29075362,\n",
       " 'sharesShortPreviousMonthDate': 1713139200,\n",
       " 'dateShortInterest': 1715731200,\n",
       " 'sharesPercentSharesOut': 0.0113,\n",
       " 'heldPercentInsiders': 0.043169998,\n",
       " 'heldPercentInstitutions': 0.67523,\n",
       " 'shortRatio': 0.64,\n",
       " 'shortPercentOfFloat': 0.0117999995,\n",
       " 'impliedSharesOutstanding': 2554579968,\n",
       " 'bookValue': 19.96,\n",
       " 'priceToBook': 54.926353,\n",
       " 'lastFiscalYearEnd': 1706400000,\n",
       " 'nextFiscalYearEnd': 1738022400,\n",
       " 'mostRecentQuarter': 1714262400,\n",
       " 'earningsQuarterlyGrowth': 6.284,\n",
       " 'netIncomeToCommon': 42597998592,\n",
       " 'trailingEps': 17.1,\n",
       " 'forwardEps': 35.66,\n",
       " 'pegRatio': 0.88,\n",
       " 'lastSplitFactor': '4:1',\n",
       " 'lastSplitDate': 1626739200,\n",
       " 'enterpriseToRevenue': 33.579,\n",
       " 'enterpriseToEbitda': 54.363,\n",
       " '52WeekChange': 1.7988307,\n",
       " 'SandP52WeekChange': 0.23485482,\n",
       " 'lastDividendValue': 0.04,\n",
       " 'lastDividendDate': 1709596800,\n",
       " 'exchange': 'NMS',\n",
       " 'quoteType': 'EQUITY',\n",
       " 'symbol': 'NVDA',\n",
       " 'underlyingSymbol': 'NVDA',\n",
       " 'shortName': 'NVIDIA Corporation',\n",
       " 'longName': 'NVIDIA Corporation',\n",
       " 'firstTradeDateEpochUtc': 917015400,\n",
       " 'timeZoneFullName': 'America/New_York',\n",
       " 'timeZoneShortName': 'EDT',\n",
       " 'uuid': '7f5f6a07-b148-30f4-98a2-2caa3df2aed0',\n",
       " 'messageBoardId': 'finmb_32307',\n",
       " 'gmtOffSetMilliseconds': -14400000,\n",
       " 'currentPrice': 1096.33,\n",
       " 'targetHighPrice': 1400.0,\n",
       " 'targetLowPrice': 478.4,\n",
       " 'targetMeanPrice': 1140.21,\n",
       " 'targetMedianPrice': 1200.0,\n",
       " 'recommendationMean': 1.8,\n",
       " 'recommendationKey': 'buy',\n",
       " 'numberOfAnalystOpinions': 47,\n",
       " 'totalCash': 31438000128,\n",
       " 'totalCashPerShare': 12.769,\n",
       " 'ebitda': 49274998784,\n",
       " 'totalDebt': 10990999552,\n",
       " 'quickRatio': 2.877,\n",
       " 'currentRatio': 3.529,\n",
       " 'totalRevenue': 79773999104,\n",
       " 'debtToEquity': 22.366,\n",
       " 'revenuePerShare': 32.336,\n",
       " 'returnOnAssets': 0.49103,\n",
       " 'returnOnEquity': 1.15658,\n",
       " 'freeCashflow': 29269749760,\n",
       " 'operatingCashflow': 40524001280,\n",
       " 'earningsGrowth': 6.293,\n",
       " 'revenueGrowth': 2.621,\n",
       " 'grossMargins': 0.75286,\n",
       " 'ebitdaMargins': 0.61768,\n",
       " 'operatingMargins': 0.64925003,\n",
       " 'financialCurrency': 'USD',\n",
       " 'trailingPegRatio': 1.3727}"
      ]
     },
     "execution_count": 4,
     "metadata": {},
     "output_type": "execute_result"
    }
   ],
   "source": [
    "nvidia.info"
   ]
  },
  {
   "cell_type": "code",
   "execution_count": 5,
   "metadata": {},
   "outputs": [],
   "source": [
    "nvidia_hist = nvidia.history(period=\"10y\")\n",
    "snp_hist = snp.history(period=\"10y\")"
   ]
  },
  {
   "cell_type": "code",
   "execution_count": 6,
   "metadata": {},
   "outputs": [],
   "source": [
    "nvidia_hist_last7 = nvidia_hist.iloc[-7:]\n",
    "nvidia_hist_last30 = nvidia_hist.iloc[-30:]\n",
    "nvidia_hist_last200 = nvidia_hist.iloc[-200:]"
   ]
  },
  {
   "cell_type": "code",
   "execution_count": 7,
   "metadata": {},
   "outputs": [
    {
     "data": {
      "text/html": [
       "<div>\n",
       "<style scoped>\n",
       "    .dataframe tbody tr th:only-of-type {\n",
       "        vertical-align: middle;\n",
       "    }\n",
       "\n",
       "    .dataframe tbody tr th {\n",
       "        vertical-align: top;\n",
       "    }\n",
       "\n",
       "    .dataframe thead th {\n",
       "        text-align: right;\n",
       "    }\n",
       "</style>\n",
       "<table border=\"1\" class=\"dataframe\">\n",
       "  <thead>\n",
       "    <tr style=\"text-align: right;\">\n",
       "      <th></th>\n",
       "      <th>Open</th>\n",
       "      <th>High</th>\n",
       "      <th>Low</th>\n",
       "      <th>Close</th>\n",
       "      <th>Volume</th>\n",
       "      <th>Dividends</th>\n",
       "      <th>Stock Splits</th>\n",
       "    </tr>\n",
       "    <tr>\n",
       "      <th>Date</th>\n",
       "      <th></th>\n",
       "      <th></th>\n",
       "      <th></th>\n",
       "      <th></th>\n",
       "      <th></th>\n",
       "      <th></th>\n",
       "      <th></th>\n",
       "    </tr>\n",
       "  </thead>\n",
       "  <tbody>\n",
       "    <tr>\n",
       "      <th>2024-05-31 00:00:00-04:00</th>\n",
       "      <td>1125.199951</td>\n",
       "      <td>1127.170044</td>\n",
       "      <td>1069.400024</td>\n",
       "      <td>1096.329956</td>\n",
       "      <td>61183200</td>\n",
       "      <td>0.0</td>\n",
       "      <td>0.0</td>\n",
       "    </tr>\n",
       "  </tbody>\n",
       "</table>\n",
       "</div>"
      ],
      "text/plain": [
       "                                  Open         High          Low        Close  \\\n",
       "Date                                                                            \n",
       "2024-05-31 00:00:00-04:00  1125.199951  1127.170044  1069.400024  1096.329956   \n",
       "\n",
       "                             Volume  Dividends  Stock Splits  \n",
       "Date                                                          \n",
       "2024-05-31 00:00:00-04:00  61183200        0.0           0.0  "
      ]
     },
     "execution_count": 7,
     "metadata": {},
     "output_type": "execute_result"
    }
   ],
   "source": [
    "last_prc_rec = nvidia_hist.iloc[-1:]\n",
    "last_prc_rec"
   ]
  },
  {
   "cell_type": "code",
   "execution_count": 8,
   "metadata": {},
   "outputs": [
    {
     "data": {
      "text/plain": [
       "Date\n",
       "2024-05-31 00:00:00-04:00    1096.329956\n",
       "Name: Close, dtype: float64"
      ]
     },
     "execution_count": 8,
     "metadata": {},
     "output_type": "execute_result"
    }
   ],
   "source": [
    "last_prc_rec.Close"
   ]
  },
  {
   "cell_type": "code",
   "execution_count": 9,
   "metadata": {},
   "outputs": [
    {
     "name": "stdout",
     "output_type": "stream",
     "text": [
      "Index(['Open', 'High', 'Low', 'Close', 'Volume', 'Dividends', 'Stock Splits'], dtype='object')\n",
      "2014-06-02 00:00:00-04:00\n"
     ]
    }
   ],
   "source": [
    "print(nvidia_hist.columns)\n",
    "print(nvidia_hist.index[0])"
   ]
  },
  {
   "cell_type": "code",
   "execution_count": 10,
   "metadata": {},
   "outputs": [
    {
     "data": {
      "text/html": [
       "<div>\n",
       "<style scoped>\n",
       "    .dataframe tbody tr th:only-of-type {\n",
       "        vertical-align: middle;\n",
       "    }\n",
       "\n",
       "    .dataframe tbody tr th {\n",
       "        vertical-align: top;\n",
       "    }\n",
       "\n",
       "    .dataframe thead th {\n",
       "        text-align: right;\n",
       "    }\n",
       "</style>\n",
       "<table border=\"1\" class=\"dataframe\">\n",
       "  <thead>\n",
       "    <tr style=\"text-align: right;\">\n",
       "      <th></th>\n",
       "      <th>Open</th>\n",
       "      <th>High</th>\n",
       "      <th>Low</th>\n",
       "      <th>Close</th>\n",
       "      <th>Volume</th>\n",
       "      <th>Dividends</th>\n",
       "      <th>Stock Splits</th>\n",
       "      <th>Date2</th>\n",
       "    </tr>\n",
       "    <tr>\n",
       "      <th>Date</th>\n",
       "      <th></th>\n",
       "      <th></th>\n",
       "      <th></th>\n",
       "      <th></th>\n",
       "      <th></th>\n",
       "      <th></th>\n",
       "      <th></th>\n",
       "      <th></th>\n",
       "    </tr>\n",
       "  </thead>\n",
       "  <tbody>\n",
       "    <tr>\n",
       "      <th>2014-06-02 00:00:00-04:00</th>\n",
       "      <td>4.536356</td>\n",
       "      <td>4.564916</td>\n",
       "      <td>4.469715</td>\n",
       "      <td>4.507795</td>\n",
       "      <td>18150000</td>\n",
       "      <td>0.0</td>\n",
       "      <td>0.0</td>\n",
       "      <td>2014-06-02</td>\n",
       "    </tr>\n",
       "    <tr>\n",
       "      <th>2014-06-03 00:00:00-04:00</th>\n",
       "      <td>4.517314</td>\n",
       "      <td>4.522075</td>\n",
       "      <td>4.429253</td>\n",
       "      <td>4.488754</td>\n",
       "      <td>24321200</td>\n",
       "      <td>0.0</td>\n",
       "      <td>0.0</td>\n",
       "      <td>2014-06-03</td>\n",
       "    </tr>\n",
       "    <tr>\n",
       "      <th>2014-06-04 00:00:00-04:00</th>\n",
       "      <td>4.476855</td>\n",
       "      <td>4.526836</td>\n",
       "      <td>4.474475</td>\n",
       "      <td>4.493515</td>\n",
       "      <td>16123600</td>\n",
       "      <td>0.0</td>\n",
       "      <td>0.0</td>\n",
       "      <td>2014-06-04</td>\n",
       "    </tr>\n",
       "    <tr>\n",
       "      <th>2014-06-05 00:00:00-04:00</th>\n",
       "      <td>4.500654</td>\n",
       "      <td>4.526835</td>\n",
       "      <td>4.474474</td>\n",
       "      <td>4.512554</td>\n",
       "      <td>18869600</td>\n",
       "      <td>0.0</td>\n",
       "      <td>0.0</td>\n",
       "      <td>2014-06-05</td>\n",
       "    </tr>\n",
       "    <tr>\n",
       "      <th>2014-06-06 00:00:00-04:00</th>\n",
       "      <td>4.533976</td>\n",
       "      <td>4.569677</td>\n",
       "      <td>4.517315</td>\n",
       "      <td>4.529216</td>\n",
       "      <td>16105200</td>\n",
       "      <td>0.0</td>\n",
       "      <td>0.0</td>\n",
       "      <td>2014-06-06</td>\n",
       "    </tr>\n",
       "  </tbody>\n",
       "</table>\n",
       "</div>"
      ],
      "text/plain": [
       "                               Open      High       Low     Close    Volume  \\\n",
       "Date                                                                          \n",
       "2014-06-02 00:00:00-04:00  4.536356  4.564916  4.469715  4.507795  18150000   \n",
       "2014-06-03 00:00:00-04:00  4.517314  4.522075  4.429253  4.488754  24321200   \n",
       "2014-06-04 00:00:00-04:00  4.476855  4.526836  4.474475  4.493515  16123600   \n",
       "2014-06-05 00:00:00-04:00  4.500654  4.526835  4.474474  4.512554  18869600   \n",
       "2014-06-06 00:00:00-04:00  4.533976  4.569677  4.517315  4.529216  16105200   \n",
       "\n",
       "                           Dividends  Stock Splits       Date2  \n",
       "Date                                                            \n",
       "2014-06-02 00:00:00-04:00        0.0           0.0  2014-06-02  \n",
       "2014-06-03 00:00:00-04:00        0.0           0.0  2014-06-03  \n",
       "2014-06-04 00:00:00-04:00        0.0           0.0  2014-06-04  \n",
       "2014-06-05 00:00:00-04:00        0.0           0.0  2014-06-05  \n",
       "2014-06-06 00:00:00-04:00        0.0           0.0  2014-06-06  "
      ]
     },
     "execution_count": 10,
     "metadata": {},
     "output_type": "execute_result"
    }
   ],
   "source": [
    "nvidia_hist[\"Date2\"] = nvidia_hist.index.date\n",
    "nvidia_hist.head()"
   ]
  },
  {
   "cell_type": "code",
   "execution_count": 11,
   "metadata": {},
   "outputs": [
    {
     "data": {
      "text/html": [
       "<div>\n",
       "<style scoped>\n",
       "    .dataframe tbody tr th:only-of-type {\n",
       "        vertical-align: middle;\n",
       "    }\n",
       "\n",
       "    .dataframe tbody tr th {\n",
       "        vertical-align: top;\n",
       "    }\n",
       "\n",
       "    .dataframe thead th {\n",
       "        text-align: right;\n",
       "    }\n",
       "</style>\n",
       "<table border=\"1\" class=\"dataframe\">\n",
       "  <thead>\n",
       "    <tr style=\"text-align: right;\">\n",
       "      <th></th>\n",
       "      <th>Open</th>\n",
       "      <th>High</th>\n",
       "      <th>Low</th>\n",
       "      <th>Close</th>\n",
       "      <th>Volume</th>\n",
       "      <th>Dividends</th>\n",
       "      <th>Stock Splits</th>\n",
       "      <th>Date2</th>\n",
       "    </tr>\n",
       "    <tr>\n",
       "      <th>Date</th>\n",
       "      <th></th>\n",
       "      <th></th>\n",
       "      <th></th>\n",
       "      <th></th>\n",
       "      <th></th>\n",
       "      <th></th>\n",
       "      <th></th>\n",
       "      <th></th>\n",
       "    </tr>\n",
       "  </thead>\n",
       "  <tbody>\n",
       "    <tr>\n",
       "      <th>2023-05-12 00:00:00-04:00</th>\n",
       "      <td>285.198521</td>\n",
       "      <td>287.707695</td>\n",
       "      <td>280.370053</td>\n",
       "      <td>283.309113</td>\n",
       "      <td>27402700</td>\n",
       "      <td>0.0</td>\n",
       "      <td>0.0</td>\n",
       "      <td>2023-05-12</td>\n",
       "    </tr>\n",
       "  </tbody>\n",
       "</table>\n",
       "</div>"
      ],
      "text/plain": [
       "                                 Open        High         Low       Close  \\\n",
       "Date                                                                        \n",
       "2023-05-12 00:00:00-04:00  285.198521  287.707695  280.370053  283.309113   \n",
       "\n",
       "                             Volume  Dividends  Stock Splits       Date2  \n",
       "Date                                                                      \n",
       "2023-05-12 00:00:00-04:00  27402700        0.0           0.0  2023-05-12  "
      ]
     },
     "execution_count": 11,
     "metadata": {},
     "output_type": "execute_result"
    }
   ],
   "source": [
    "nvidia_hist[nvidia_hist['Date2'].astype(str) == '2023-05-12']"
   ]
  },
  {
   "cell_type": "code",
   "execution_count": 12,
   "metadata": {},
   "outputs": [
    {
     "data": {
      "text/html": [
       "<div>\n",
       "<style scoped>\n",
       "    .dataframe tbody tr th:only-of-type {\n",
       "        vertical-align: middle;\n",
       "    }\n",
       "\n",
       "    .dataframe tbody tr th {\n",
       "        vertical-align: top;\n",
       "    }\n",
       "\n",
       "    .dataframe thead th {\n",
       "        text-align: right;\n",
       "    }\n",
       "</style>\n",
       "<table border=\"1\" class=\"dataframe\">\n",
       "  <thead>\n",
       "    <tr style=\"text-align: right;\">\n",
       "      <th></th>\n",
       "      <th>Open</th>\n",
       "      <th>High</th>\n",
       "      <th>Low</th>\n",
       "      <th>Close</th>\n",
       "      <th>Volume</th>\n",
       "      <th>Dividends</th>\n",
       "      <th>Stock Splits</th>\n",
       "      <th>Date2</th>\n",
       "    </tr>\n",
       "    <tr>\n",
       "      <th>Date</th>\n",
       "      <th></th>\n",
       "      <th></th>\n",
       "      <th></th>\n",
       "      <th></th>\n",
       "      <th></th>\n",
       "      <th></th>\n",
       "      <th></th>\n",
       "      <th></th>\n",
       "    </tr>\n",
       "  </thead>\n",
       "  <tbody>\n",
       "  </tbody>\n",
       "</table>\n",
       "</div>"
      ],
      "text/plain": [
       "Empty DataFrame\n",
       "Columns: [Open, High, Low, Close, Volume, Dividends, Stock Splits, Date2]\n",
       "Index: []"
      ]
     },
     "execution_count": 12,
     "metadata": {},
     "output_type": "execute_result"
    }
   ],
   "source": [
    "nvidia_hist[nvidia_hist['Date2'].astype(str).str[:10] == '2023-05-07']"
   ]
  },
  {
   "cell_type": "code",
   "execution_count": 13,
   "metadata": {},
   "outputs": [
    {
     "data": {
      "text/html": [
       "<div>\n",
       "<style scoped>\n",
       "    .dataframe tbody tr th:only-of-type {\n",
       "        vertical-align: middle;\n",
       "    }\n",
       "\n",
       "    .dataframe tbody tr th {\n",
       "        vertical-align: top;\n",
       "    }\n",
       "\n",
       "    .dataframe thead th {\n",
       "        text-align: right;\n",
       "    }\n",
       "</style>\n",
       "<table border=\"1\" class=\"dataframe\">\n",
       "  <thead>\n",
       "    <tr style=\"text-align: right;\">\n",
       "      <th></th>\n",
       "      <th>Open</th>\n",
       "      <th>High</th>\n",
       "      <th>Low</th>\n",
       "      <th>Close</th>\n",
       "      <th>Volume</th>\n",
       "      <th>Dividends</th>\n",
       "      <th>Stock Splits</th>\n",
       "      <th>Date2</th>\n",
       "      <th>Date</th>\n",
       "    </tr>\n",
       "    <tr>\n",
       "      <th>Date</th>\n",
       "      <th></th>\n",
       "      <th></th>\n",
       "      <th></th>\n",
       "      <th></th>\n",
       "      <th></th>\n",
       "      <th></th>\n",
       "      <th></th>\n",
       "      <th></th>\n",
       "      <th></th>\n",
       "    </tr>\n",
       "  </thead>\n",
       "  <tbody>\n",
       "    <tr>\n",
       "      <th>2014-06-02 00:00:00-04:00</th>\n",
       "      <td>4.536356</td>\n",
       "      <td>4.564916</td>\n",
       "      <td>4.469715</td>\n",
       "      <td>4.507795</td>\n",
       "      <td>18150000</td>\n",
       "      <td>0.0</td>\n",
       "      <td>0.0</td>\n",
       "      <td>2014-06-02</td>\n",
       "      <td>2014-06-02 00:00:00-04:00</td>\n",
       "    </tr>\n",
       "    <tr>\n",
       "      <th>2014-06-03 00:00:00-04:00</th>\n",
       "      <td>4.517314</td>\n",
       "      <td>4.522075</td>\n",
       "      <td>4.429253</td>\n",
       "      <td>4.488754</td>\n",
       "      <td>24321200</td>\n",
       "      <td>0.0</td>\n",
       "      <td>0.0</td>\n",
       "      <td>2014-06-03</td>\n",
       "      <td>2014-06-03 00:00:00-04:00</td>\n",
       "    </tr>\n",
       "    <tr>\n",
       "      <th>2014-06-04 00:00:00-04:00</th>\n",
       "      <td>4.476855</td>\n",
       "      <td>4.526836</td>\n",
       "      <td>4.474475</td>\n",
       "      <td>4.493515</td>\n",
       "      <td>16123600</td>\n",
       "      <td>0.0</td>\n",
       "      <td>0.0</td>\n",
       "      <td>2014-06-04</td>\n",
       "      <td>2014-06-04 00:00:00-04:00</td>\n",
       "    </tr>\n",
       "    <tr>\n",
       "      <th>2014-06-05 00:00:00-04:00</th>\n",
       "      <td>4.500654</td>\n",
       "      <td>4.526835</td>\n",
       "      <td>4.474474</td>\n",
       "      <td>4.512554</td>\n",
       "      <td>18869600</td>\n",
       "      <td>0.0</td>\n",
       "      <td>0.0</td>\n",
       "      <td>2014-06-05</td>\n",
       "      <td>2014-06-05 00:00:00-04:00</td>\n",
       "    </tr>\n",
       "    <tr>\n",
       "      <th>2014-06-06 00:00:00-04:00</th>\n",
       "      <td>4.533976</td>\n",
       "      <td>4.569677</td>\n",
       "      <td>4.517315</td>\n",
       "      <td>4.529216</td>\n",
       "      <td>16105200</td>\n",
       "      <td>0.0</td>\n",
       "      <td>0.0</td>\n",
       "      <td>2014-06-06</td>\n",
       "      <td>2014-06-06 00:00:00-04:00</td>\n",
       "    </tr>\n",
       "  </tbody>\n",
       "</table>\n",
       "</div>"
      ],
      "text/plain": [
       "                               Open      High       Low     Close    Volume  \\\n",
       "Date                                                                          \n",
       "2014-06-02 00:00:00-04:00  4.536356  4.564916  4.469715  4.507795  18150000   \n",
       "2014-06-03 00:00:00-04:00  4.517314  4.522075  4.429253  4.488754  24321200   \n",
       "2014-06-04 00:00:00-04:00  4.476855  4.526836  4.474475  4.493515  16123600   \n",
       "2014-06-05 00:00:00-04:00  4.500654  4.526835  4.474474  4.512554  18869600   \n",
       "2014-06-06 00:00:00-04:00  4.533976  4.569677  4.517315  4.529216  16105200   \n",
       "\n",
       "                           Dividends  Stock Splits       Date2  \\\n",
       "Date                                                             \n",
       "2014-06-02 00:00:00-04:00        0.0           0.0  2014-06-02   \n",
       "2014-06-03 00:00:00-04:00        0.0           0.0  2014-06-03   \n",
       "2014-06-04 00:00:00-04:00        0.0           0.0  2014-06-04   \n",
       "2014-06-05 00:00:00-04:00        0.0           0.0  2014-06-05   \n",
       "2014-06-06 00:00:00-04:00        0.0           0.0  2014-06-06   \n",
       "\n",
       "                                               Date  \n",
       "Date                                                 \n",
       "2014-06-02 00:00:00-04:00 2014-06-02 00:00:00-04:00  \n",
       "2014-06-03 00:00:00-04:00 2014-06-03 00:00:00-04:00  \n",
       "2014-06-04 00:00:00-04:00 2014-06-04 00:00:00-04:00  \n",
       "2014-06-05 00:00:00-04:00 2014-06-05 00:00:00-04:00  \n",
       "2014-06-06 00:00:00-04:00 2014-06-06 00:00:00-04:00  "
      ]
     },
     "execution_count": 13,
     "metadata": {},
     "output_type": "execute_result"
    }
   ],
   "source": [
    "nvidia_hist[\"Date\"] = nvidia_hist.index.normalize()\n",
    "nvidia_hist.head()"
   ]
  },
  {
   "cell_type": "code",
   "execution_count": 14,
   "metadata": {},
   "outputs": [
    {
     "name": "stdout",
     "output_type": "stream",
     "text": [
      "<class 'pandas.core.frame.DataFrame'>\n",
      "DatetimeIndex: 2518 entries, 2014-06-02 00:00:00-04:00 to 2024-05-31 00:00:00-04:00\n",
      "Data columns (total 10 columns):\n",
      " #   Column        Non-Null Count  Dtype                           \n",
      "---  ------        --------------  -----                           \n",
      " 0   Open          2518 non-null   float64                         \n",
      " 1   High          2518 non-null   float64                         \n",
      " 2   Low           2518 non-null   float64                         \n",
      " 3   Close         2518 non-null   float64                         \n",
      " 4   Volume        2518 non-null   int64                           \n",
      " 5   Dividends     2518 non-null   float64                         \n",
      " 6   Stock Splits  2518 non-null   float64                         \n",
      " 7   Date2         2518 non-null   object                          \n",
      " 8   Date          2518 non-null   datetime64[ns, America/New_York]\n",
      " 9   date          2518 non-null   object                          \n",
      "dtypes: datetime64[ns, America/New_York](1), float64(6), int64(1), object(2)\n",
      "memory usage: 216.4+ KB\n"
     ]
    }
   ],
   "source": [
    "nvidia_hist[\"date\"] = nvidia_hist.index.date\n",
    "nvidia_hist.info()"
   ]
  },
  {
   "cell_type": "code",
   "execution_count": 15,
   "metadata": {},
   "outputs": [
    {
     "name": "stdout",
     "output_type": "stream",
     "text": [
      "<class 'pandas.core.frame.DataFrame'>\n",
      "DatetimeIndex: 2518 entries, 2014-06-02 00:00:00-04:00 to 2024-05-31 00:00:00-04:00\n",
      "Data columns (total 10 columns):\n",
      " #   Column        Non-Null Count  Dtype                           \n",
      "---  ------        --------------  -----                           \n",
      " 0   Open          2518 non-null   float64                         \n",
      " 1   High          2518 non-null   float64                         \n",
      " 2   Low           2518 non-null   float64                         \n",
      " 3   Close         2518 non-null   float64                         \n",
      " 4   Volume        2518 non-null   int64                           \n",
      " 5   Dividends     2518 non-null   float64                         \n",
      " 6   Stock Splits  2518 non-null   float64                         \n",
      " 7   Date2         2518 non-null   object                          \n",
      " 8   Date          2518 non-null   datetime64[ns, America/New_York]\n",
      " 9   date          2518 non-null   object                          \n",
      "dtypes: datetime64[ns, America/New_York](1), float64(6), int64(1), object(2)\n",
      "memory usage: 216.4+ KB\n"
     ]
    }
   ],
   "source": [
    "nvidia_hist[\"date\"] = pd.to_datetime(nvidia_hist.index).date\n",
    "nvidia_hist.info()"
   ]
  },
  {
   "cell_type": "code",
   "execution_count": 16,
   "metadata": {},
   "outputs": [],
   "source": [
    "def remove_timezone(dt):\n",
    "   return dt.replace(tzinfo=None)"
   ]
  },
  {
   "cell_type": "code",
   "execution_count": 17,
   "metadata": {},
   "outputs": [],
   "source": [
    "last_day_prior_year = '2023-12-29'\n",
    "last_day_prior_month = '2024-05-31'"
   ]
  },
  {
   "cell_type": "code",
   "execution_count": 18,
   "metadata": {},
   "outputs": [
    {
     "name": "stderr",
     "output_type": "stream",
     "text": [
      "C:\\Users\\wrjod\\AppData\\Local\\Temp\\ipykernel_8\\3222920497.py:2: FutureWarning: The behavior of 'isin' with dtype=datetime64[ns] and castable values (e.g. strings) is deprecated. In a future version, these will not be considered matching by isin. Explicitly cast to the appropriate dtype before calling isin instead.\n",
      "  rec_last_day_prior_year = nvidia_hist.query(\"Date == @last_day_prior_year\")\n"
     ]
    },
    {
     "data": {
      "text/html": [
       "<div>\n",
       "<style scoped>\n",
       "    .dataframe tbody tr th:only-of-type {\n",
       "        vertical-align: middle;\n",
       "    }\n",
       "\n",
       "    .dataframe tbody tr th {\n",
       "        vertical-align: top;\n",
       "    }\n",
       "\n",
       "    .dataframe thead th {\n",
       "        text-align: right;\n",
       "    }\n",
       "</style>\n",
       "<table border=\"1\" class=\"dataframe\">\n",
       "  <thead>\n",
       "    <tr style=\"text-align: right;\">\n",
       "      <th></th>\n",
       "      <th>Open</th>\n",
       "      <th>High</th>\n",
       "      <th>Low</th>\n",
       "      <th>Close</th>\n",
       "      <th>Volume</th>\n",
       "      <th>Dividends</th>\n",
       "      <th>Stock Splits</th>\n",
       "      <th>Date2</th>\n",
       "      <th>Date</th>\n",
       "      <th>date</th>\n",
       "    </tr>\n",
       "    <tr>\n",
       "      <th>Date</th>\n",
       "      <th></th>\n",
       "      <th></th>\n",
       "      <th></th>\n",
       "      <th></th>\n",
       "      <th></th>\n",
       "      <th></th>\n",
       "      <th></th>\n",
       "      <th></th>\n",
       "      <th></th>\n",
       "      <th></th>\n",
       "    </tr>\n",
       "  </thead>\n",
       "  <tbody>\n",
       "    <tr>\n",
       "      <th>2023-12-29 00:00:00-05:00</th>\n",
       "      <td>498.106645</td>\n",
       "      <td>499.946555</td>\n",
       "      <td>487.487147</td>\n",
       "      <td>495.196777</td>\n",
       "      <td>38869000</td>\n",
       "      <td>0.0</td>\n",
       "      <td>0.0</td>\n",
       "      <td>2023-12-29</td>\n",
       "      <td>2023-12-29</td>\n",
       "      <td>2023-12-29</td>\n",
       "    </tr>\n",
       "  </tbody>\n",
       "</table>\n",
       "</div>"
      ],
      "text/plain": [
       "                                 Open        High         Low       Close  \\\n",
       "Date                                                                        \n",
       "2023-12-29 00:00:00-05:00  498.106645  499.946555  487.487147  495.196777   \n",
       "\n",
       "                             Volume  Dividends  Stock Splits       Date2  \\\n",
       "Date                                                                       \n",
       "2023-12-29 00:00:00-05:00  38869000        0.0           0.0  2023-12-29   \n",
       "\n",
       "                                Date        date  \n",
       "Date                                              \n",
       "2023-12-29 00:00:00-05:00 2023-12-29  2023-12-29  "
      ]
     },
     "execution_count": 18,
     "metadata": {},
     "output_type": "execute_result"
    }
   ],
   "source": [
    "nvidia_hist['Date'] = nvidia_hist['Date'].apply(remove_timezone)\n",
    "rec_last_day_prior_year = nvidia_hist.query(\"Date == @last_day_prior_year\")\n",
    "rec_last_day_prior_year"
   ]
  },
  {
   "cell_type": "code",
   "execution_count": 19,
   "metadata": {},
   "outputs": [
    {
     "name": "stdout",
     "output_type": "stream",
     "text": [
      "Close=1096.3299560546875, EOY=495.19677734375, Diff=601.1331787109375, Pct_Chg=1.2139278893037904\n"
     ]
    }
   ],
   "source": [
    "last_prc = last_prc_rec.Close.values[0]\n",
    "todays_close = last_prc_rec[\"Close\"].values[0]\n",
    "prior_year_close = rec_last_day_prior_year[\"Close\"].values[0]\n",
    "ytd_diff = todays_close - prior_year_close\n",
    "ytd_pct_chg = ytd_diff / prior_year_close\n",
    "print(f\"Close={todays_close}, EOY={prior_year_close}, Diff={ytd_diff}, Pct_Chg={ytd_pct_chg}\")"
   ]
  },
  {
   "cell_type": "code",
   "execution_count": 20,
   "metadata": {},
   "outputs": [
    {
     "data": {
      "text/plain": [
       "1.2139278893037904"
      ]
     },
     "execution_count": 20,
     "metadata": {},
     "output_type": "execute_result"
    }
   ],
   "source": [
    "ytd_price_chg = todays_close - prior_year_close\n",
    "ytd_return = ytd_price_chg/prior_year_close\n",
    "\n",
    "ytd_return"
   ]
  },
  {
   "cell_type": "code",
   "execution_count": 21,
   "metadata": {},
   "outputs": [
    {
     "name": "stdout",
     "output_type": "stream",
     "text": [
      "Date\n",
      "2024-05-31 00:00:00-04:00    1096.329956\n",
      "Name: Close, dtype: float64, Date\n",
      "2023-12-29 00:00:00-05:00    495.196777\n",
      "Name: Close, dtype: float64, 601.1331787109375, 1.2139278893037904\n"
     ]
    }
   ],
   "source": [
    "print(f\"{last_prc_rec.Close}, {rec_last_day_prior_year.Close}, {ytd_price_chg}, {ytd_return}\")"
   ]
  },
  {
   "cell_type": "code",
   "execution_count": 22,
   "metadata": {},
   "outputs": [
    {
     "name": "stdout",
     "output_type": "stream",
     "text": [
      "<class 'pandas.core.frame.DataFrame'>\n",
      "DatetimeIndex: 2518 entries, 2014-06-02 00:00:00-04:00 to 2024-05-31 00:00:00-04:00\n",
      "Data columns (total 10 columns):\n",
      " #   Column        Non-Null Count  Dtype         \n",
      "---  ------        --------------  -----         \n",
      " 0   Open          2518 non-null   float64       \n",
      " 1   High          2518 non-null   float64       \n",
      " 2   Low           2518 non-null   float64       \n",
      " 3   Close         2518 non-null   float64       \n",
      " 4   Volume        2518 non-null   int64         \n",
      " 5   Dividends     2518 non-null   float64       \n",
      " 6   Stock Splits  2518 non-null   float64       \n",
      " 7   Date2         2518 non-null   object        \n",
      " 8   Date          2518 non-null   datetime64[ns]\n",
      " 9   date          2518 non-null   object        \n",
      "dtypes: datetime64[ns](1), float64(6), int64(1), object(2)\n",
      "memory usage: 216.4+ KB\n"
     ]
    }
   ],
   "source": [
    "nvidia_hist.info()"
   ]
  },
  {
   "cell_type": "code",
   "execution_count": 23,
   "metadata": {},
   "outputs": [
    {
     "data": {
      "text/html": [
       "<div>\n",
       "<style scoped>\n",
       "    .dataframe tbody tr th:only-of-type {\n",
       "        vertical-align: middle;\n",
       "    }\n",
       "\n",
       "    .dataframe tbody tr th {\n",
       "        vertical-align: top;\n",
       "    }\n",
       "\n",
       "    .dataframe thead th {\n",
       "        text-align: right;\n",
       "    }\n",
       "</style>\n",
       "<table border=\"1\" class=\"dataframe\">\n",
       "  <thead>\n",
       "    <tr style=\"text-align: right;\">\n",
       "      <th></th>\n",
       "      <th>Open</th>\n",
       "      <th>High</th>\n",
       "      <th>Low</th>\n",
       "      <th>Close</th>\n",
       "      <th>Volume</th>\n",
       "      <th>Dividends</th>\n",
       "      <th>Stock Splits</th>\n",
       "      <th>Date2</th>\n",
       "      <th>Date</th>\n",
       "      <th>date</th>\n",
       "    </tr>\n",
       "    <tr>\n",
       "      <th>Date</th>\n",
       "      <th></th>\n",
       "      <th></th>\n",
       "      <th></th>\n",
       "      <th></th>\n",
       "      <th></th>\n",
       "      <th></th>\n",
       "      <th></th>\n",
       "      <th></th>\n",
       "      <th></th>\n",
       "      <th></th>\n",
       "    </tr>\n",
       "  </thead>\n",
       "  <tbody>\n",
       "    <tr>\n",
       "      <th>2024-05-24 00:00:00-04:00</th>\n",
       "      <td>1044.489990</td>\n",
       "      <td>1064.750000</td>\n",
       "      <td>1030.000000</td>\n",
       "      <td>1064.689941</td>\n",
       "      <td>42650200</td>\n",
       "      <td>0.0</td>\n",
       "      <td>0.0</td>\n",
       "      <td>2024-05-24</td>\n",
       "      <td>2024-05-24</td>\n",
       "      <td>2024-05-24</td>\n",
       "    </tr>\n",
       "    <tr>\n",
       "      <th>2024-05-28 00:00:00-04:00</th>\n",
       "      <td>1102.439941</td>\n",
       "      <td>1149.390015</td>\n",
       "      <td>1098.829956</td>\n",
       "      <td>1139.010010</td>\n",
       "      <td>65272800</td>\n",
       "      <td>0.0</td>\n",
       "      <td>0.0</td>\n",
       "      <td>2024-05-28</td>\n",
       "      <td>2024-05-28</td>\n",
       "      <td>2024-05-28</td>\n",
       "    </tr>\n",
       "    <tr>\n",
       "      <th>2024-05-29 00:00:00-04:00</th>\n",
       "      <td>1130.500000</td>\n",
       "      <td>1154.920044</td>\n",
       "      <td>1109.010010</td>\n",
       "      <td>1148.250000</td>\n",
       "      <td>55744200</td>\n",
       "      <td>0.0</td>\n",
       "      <td>0.0</td>\n",
       "      <td>2024-05-29</td>\n",
       "      <td>2024-05-29</td>\n",
       "      <td>2024-05-29</td>\n",
       "    </tr>\n",
       "    <tr>\n",
       "      <th>2024-05-30 00:00:00-04:00</th>\n",
       "      <td>1146.500000</td>\n",
       "      <td>1158.189941</td>\n",
       "      <td>1096.630005</td>\n",
       "      <td>1105.000000</td>\n",
       "      <td>48735000</td>\n",
       "      <td>0.0</td>\n",
       "      <td>0.0</td>\n",
       "      <td>2024-05-30</td>\n",
       "      <td>2024-05-30</td>\n",
       "      <td>2024-05-30</td>\n",
       "    </tr>\n",
       "    <tr>\n",
       "      <th>2024-05-31 00:00:00-04:00</th>\n",
       "      <td>1125.199951</td>\n",
       "      <td>1127.170044</td>\n",
       "      <td>1069.400024</td>\n",
       "      <td>1096.329956</td>\n",
       "      <td>61183200</td>\n",
       "      <td>0.0</td>\n",
       "      <td>0.0</td>\n",
       "      <td>2024-05-31</td>\n",
       "      <td>2024-05-31</td>\n",
       "      <td>2024-05-31</td>\n",
       "    </tr>\n",
       "  </tbody>\n",
       "</table>\n",
       "</div>"
      ],
      "text/plain": [
       "                                  Open         High          Low        Close  \\\n",
       "Date                                                                            \n",
       "2024-05-24 00:00:00-04:00  1044.489990  1064.750000  1030.000000  1064.689941   \n",
       "2024-05-28 00:00:00-04:00  1102.439941  1149.390015  1098.829956  1139.010010   \n",
       "2024-05-29 00:00:00-04:00  1130.500000  1154.920044  1109.010010  1148.250000   \n",
       "2024-05-30 00:00:00-04:00  1146.500000  1158.189941  1096.630005  1105.000000   \n",
       "2024-05-31 00:00:00-04:00  1125.199951  1127.170044  1069.400024  1096.329956   \n",
       "\n",
       "                             Volume  Dividends  Stock Splits       Date2  \\\n",
       "Date                                                                       \n",
       "2024-05-24 00:00:00-04:00  42650200        0.0           0.0  2024-05-24   \n",
       "2024-05-28 00:00:00-04:00  65272800        0.0           0.0  2024-05-28   \n",
       "2024-05-29 00:00:00-04:00  55744200        0.0           0.0  2024-05-29   \n",
       "2024-05-30 00:00:00-04:00  48735000        0.0           0.0  2024-05-30   \n",
       "2024-05-31 00:00:00-04:00  61183200        0.0           0.0  2024-05-31   \n",
       "\n",
       "                                Date        date  \n",
       "Date                                              \n",
       "2024-05-24 00:00:00-04:00 2024-05-24  2024-05-24  \n",
       "2024-05-28 00:00:00-04:00 2024-05-28  2024-05-28  \n",
       "2024-05-29 00:00:00-04:00 2024-05-29  2024-05-29  \n",
       "2024-05-30 00:00:00-04:00 2024-05-30  2024-05-30  \n",
       "2024-05-31 00:00:00-04:00 2024-05-31  2024-05-31  "
      ]
     },
     "execution_count": 23,
     "metadata": {},
     "output_type": "execute_result"
    }
   ],
   "source": [
    "nvidia_hist.tail()"
   ]
  },
  {
   "cell_type": "code",
   "execution_count": 24,
   "metadata": {},
   "outputs": [
    {
     "data": {
      "text/html": [
       "<div>\n",
       "<style scoped>\n",
       "    .dataframe tbody tr th:only-of-type {\n",
       "        vertical-align: middle;\n",
       "    }\n",
       "\n",
       "    .dataframe tbody tr th {\n",
       "        vertical-align: top;\n",
       "    }\n",
       "\n",
       "    .dataframe thead th {\n",
       "        text-align: right;\n",
       "    }\n",
       "</style>\n",
       "<table border=\"1\" class=\"dataframe\">\n",
       "  <thead>\n",
       "    <tr style=\"text-align: right;\">\n",
       "      <th></th>\n",
       "      <th>Open</th>\n",
       "      <th>High</th>\n",
       "      <th>Low</th>\n",
       "      <th>Close</th>\n",
       "      <th>Volume</th>\n",
       "      <th>Dividends</th>\n",
       "      <th>Stock Splits</th>\n",
       "      <th>Date2</th>\n",
       "      <th>Date</th>\n",
       "      <th>date</th>\n",
       "    </tr>\n",
       "    <tr>\n",
       "      <th>Date</th>\n",
       "      <th></th>\n",
       "      <th></th>\n",
       "      <th></th>\n",
       "      <th></th>\n",
       "      <th></th>\n",
       "      <th></th>\n",
       "      <th></th>\n",
       "      <th></th>\n",
       "      <th></th>\n",
       "      <th></th>\n",
       "    </tr>\n",
       "  </thead>\n",
       "  <tbody>\n",
       "    <tr>\n",
       "      <th>2023-05-25 00:00:00-04:00</th>\n",
       "      <td>385.106474</td>\n",
       "      <td>394.673382</td>\n",
       "      <td>366.232524</td>\n",
       "      <td>379.678192</td>\n",
       "      <td>154391100</td>\n",
       "      <td>0.0</td>\n",
       "      <td>0.0</td>\n",
       "      <td>2023-05-25</td>\n",
       "      <td>2023-05-25</td>\n",
       "      <td>2023-05-25</td>\n",
       "    </tr>\n",
       "    <tr>\n",
       "      <th>2023-05-30 00:00:00-04:00</th>\n",
       "      <td>405.819859</td>\n",
       "      <td>419.245546</td>\n",
       "      <td>399.361909</td>\n",
       "      <td>400.981384</td>\n",
       "      <td>92340100</td>\n",
       "      <td>0.0</td>\n",
       "      <td>0.0</td>\n",
       "      <td>2023-05-30</td>\n",
       "      <td>2023-05-30</td>\n",
       "      <td>2023-05-30</td>\n",
       "    </tr>\n",
       "    <tr>\n",
       "      <th>2023-05-31 00:00:00-04:00</th>\n",
       "      <td>394.753394</td>\n",
       "      <td>402.820814</td>\n",
       "      <td>378.098732</td>\n",
       "      <td>378.218689</td>\n",
       "      <td>100258000</td>\n",
       "      <td>0.0</td>\n",
       "      <td>0.0</td>\n",
       "      <td>2023-05-31</td>\n",
       "      <td>2023-05-31</td>\n",
       "      <td>2023-05-31</td>\n",
       "    </tr>\n",
       "    <tr>\n",
       "      <th>2023-06-01 00:00:00-04:00</th>\n",
       "      <td>384.766619</td>\n",
       "      <td>400.371600</td>\n",
       "      <td>383.277076</td>\n",
       "      <td>397.572510</td>\n",
       "      <td>63587300</td>\n",
       "      <td>0.0</td>\n",
       "      <td>0.0</td>\n",
       "      <td>2023-06-01</td>\n",
       "      <td>2023-06-01</td>\n",
       "      <td>2023-06-01</td>\n",
       "    </tr>\n",
       "    <tr>\n",
       "      <th>2023-06-02 00:00:00-04:00</th>\n",
       "      <td>400.841465</td>\n",
       "      <td>404.870172</td>\n",
       "      <td>390.454781</td>\n",
       "      <td>393.143921</td>\n",
       "      <td>48165500</td>\n",
       "      <td>0.0</td>\n",
       "      <td>0.0</td>\n",
       "      <td>2023-06-02</td>\n",
       "      <td>2023-06-02</td>\n",
       "      <td>2023-06-02</td>\n",
       "    </tr>\n",
       "    <tr>\n",
       "      <th>...</th>\n",
       "      <td>...</td>\n",
       "      <td>...</td>\n",
       "      <td>...</td>\n",
       "      <td>...</td>\n",
       "      <td>...</td>\n",
       "      <td>...</td>\n",
       "      <td>...</td>\n",
       "      <td>...</td>\n",
       "      <td>...</td>\n",
       "      <td>...</td>\n",
       "    </tr>\n",
       "    <tr>\n",
       "      <th>2024-05-24 00:00:00-04:00</th>\n",
       "      <td>1044.489990</td>\n",
       "      <td>1064.750000</td>\n",
       "      <td>1030.000000</td>\n",
       "      <td>1064.689941</td>\n",
       "      <td>42650200</td>\n",
       "      <td>0.0</td>\n",
       "      <td>0.0</td>\n",
       "      <td>2024-05-24</td>\n",
       "      <td>2024-05-24</td>\n",
       "      <td>2024-05-24</td>\n",
       "    </tr>\n",
       "    <tr>\n",
       "      <th>2024-05-28 00:00:00-04:00</th>\n",
       "      <td>1102.439941</td>\n",
       "      <td>1149.390015</td>\n",
       "      <td>1098.829956</td>\n",
       "      <td>1139.010010</td>\n",
       "      <td>65272800</td>\n",
       "      <td>0.0</td>\n",
       "      <td>0.0</td>\n",
       "      <td>2024-05-28</td>\n",
       "      <td>2024-05-28</td>\n",
       "      <td>2024-05-28</td>\n",
       "    </tr>\n",
       "    <tr>\n",
       "      <th>2024-05-29 00:00:00-04:00</th>\n",
       "      <td>1130.500000</td>\n",
       "      <td>1154.920044</td>\n",
       "      <td>1109.010010</td>\n",
       "      <td>1148.250000</td>\n",
       "      <td>55744200</td>\n",
       "      <td>0.0</td>\n",
       "      <td>0.0</td>\n",
       "      <td>2024-05-29</td>\n",
       "      <td>2024-05-29</td>\n",
       "      <td>2024-05-29</td>\n",
       "    </tr>\n",
       "    <tr>\n",
       "      <th>2024-05-30 00:00:00-04:00</th>\n",
       "      <td>1146.500000</td>\n",
       "      <td>1158.189941</td>\n",
       "      <td>1096.630005</td>\n",
       "      <td>1105.000000</td>\n",
       "      <td>48735000</td>\n",
       "      <td>0.0</td>\n",
       "      <td>0.0</td>\n",
       "      <td>2024-05-30</td>\n",
       "      <td>2024-05-30</td>\n",
       "      <td>2024-05-30</td>\n",
       "    </tr>\n",
       "    <tr>\n",
       "      <th>2024-05-31 00:00:00-04:00</th>\n",
       "      <td>1125.199951</td>\n",
       "      <td>1127.170044</td>\n",
       "      <td>1069.400024</td>\n",
       "      <td>1096.329956</td>\n",
       "      <td>61183200</td>\n",
       "      <td>0.0</td>\n",
       "      <td>0.0</td>\n",
       "      <td>2024-05-31</td>\n",
       "      <td>2024-05-31</td>\n",
       "      <td>2024-05-31</td>\n",
       "    </tr>\n",
       "  </tbody>\n",
       "</table>\n",
       "<p>254 rows × 10 columns</p>\n",
       "</div>"
      ],
      "text/plain": [
       "                                  Open         High          Low        Close  \\\n",
       "Date                                                                            \n",
       "2023-05-25 00:00:00-04:00   385.106474   394.673382   366.232524   379.678192   \n",
       "2023-05-30 00:00:00-04:00   405.819859   419.245546   399.361909   400.981384   \n",
       "2023-05-31 00:00:00-04:00   394.753394   402.820814   378.098732   378.218689   \n",
       "2023-06-01 00:00:00-04:00   384.766619   400.371600   383.277076   397.572510   \n",
       "2023-06-02 00:00:00-04:00   400.841465   404.870172   390.454781   393.143921   \n",
       "...                                ...          ...          ...          ...   \n",
       "2024-05-24 00:00:00-04:00  1044.489990  1064.750000  1030.000000  1064.689941   \n",
       "2024-05-28 00:00:00-04:00  1102.439941  1149.390015  1098.829956  1139.010010   \n",
       "2024-05-29 00:00:00-04:00  1130.500000  1154.920044  1109.010010  1148.250000   \n",
       "2024-05-30 00:00:00-04:00  1146.500000  1158.189941  1096.630005  1105.000000   \n",
       "2024-05-31 00:00:00-04:00  1125.199951  1127.170044  1069.400024  1096.329956   \n",
       "\n",
       "                              Volume  Dividends  Stock Splits       Date2  \\\n",
       "Date                                                                        \n",
       "2023-05-25 00:00:00-04:00  154391100        0.0           0.0  2023-05-25   \n",
       "2023-05-30 00:00:00-04:00   92340100        0.0           0.0  2023-05-30   \n",
       "2023-05-31 00:00:00-04:00  100258000        0.0           0.0  2023-05-31   \n",
       "2023-06-01 00:00:00-04:00   63587300        0.0           0.0  2023-06-01   \n",
       "2023-06-02 00:00:00-04:00   48165500        0.0           0.0  2023-06-02   \n",
       "...                              ...        ...           ...         ...   \n",
       "2024-05-24 00:00:00-04:00   42650200        0.0           0.0  2024-05-24   \n",
       "2024-05-28 00:00:00-04:00   65272800        0.0           0.0  2024-05-28   \n",
       "2024-05-29 00:00:00-04:00   55744200        0.0           0.0  2024-05-29   \n",
       "2024-05-30 00:00:00-04:00   48735000        0.0           0.0  2024-05-30   \n",
       "2024-05-31 00:00:00-04:00   61183200        0.0           0.0  2024-05-31   \n",
       "\n",
       "                                Date        date  \n",
       "Date                                              \n",
       "2023-05-25 00:00:00-04:00 2023-05-25  2023-05-25  \n",
       "2023-05-30 00:00:00-04:00 2023-05-30  2023-05-30  \n",
       "2023-05-31 00:00:00-04:00 2023-05-31  2023-05-31  \n",
       "2023-06-01 00:00:00-04:00 2023-06-01  2023-06-01  \n",
       "2023-06-02 00:00:00-04:00 2023-06-02  2023-06-02  \n",
       "...                              ...         ...  \n",
       "2024-05-24 00:00:00-04:00 2024-05-24  2024-05-24  \n",
       "2024-05-28 00:00:00-04:00 2024-05-28  2024-05-28  \n",
       "2024-05-29 00:00:00-04:00 2024-05-29  2024-05-29  \n",
       "2024-05-30 00:00:00-04:00 2024-05-30  2024-05-30  \n",
       "2024-05-31 00:00:00-04:00 2024-05-31  2024-05-31  \n",
       "\n",
       "[254 rows x 10 columns]"
      ]
     },
     "execution_count": 24,
     "metadata": {},
     "output_type": "execute_result"
    }
   ],
   "source": [
    "nvidia_hist.query(\"Open >= 380\")"
   ]
  },
  {
   "cell_type": "code",
   "execution_count": 25,
   "metadata": {},
   "outputs": [
    {
     "data": {
      "text/html": [
       "<div>\n",
       "<style scoped>\n",
       "    .dataframe tbody tr th:only-of-type {\n",
       "        vertical-align: middle;\n",
       "    }\n",
       "\n",
       "    .dataframe tbody tr th {\n",
       "        vertical-align: top;\n",
       "    }\n",
       "\n",
       "    .dataframe thead th {\n",
       "        text-align: right;\n",
       "    }\n",
       "</style>\n",
       "<table border=\"1\" class=\"dataframe\">\n",
       "  <thead>\n",
       "    <tr style=\"text-align: right;\">\n",
       "      <th></th>\n",
       "      <th>Open</th>\n",
       "      <th>High</th>\n",
       "      <th>Low</th>\n",
       "      <th>Close</th>\n",
       "      <th>Volume</th>\n",
       "      <th>Dividends</th>\n",
       "      <th>Stock Splits</th>\n",
       "      <th>Date2</th>\n",
       "      <th>Date</th>\n",
       "      <th>date</th>\n",
       "    </tr>\n",
       "    <tr>\n",
       "      <th>Date</th>\n",
       "      <th></th>\n",
       "      <th></th>\n",
       "      <th></th>\n",
       "      <th></th>\n",
       "      <th></th>\n",
       "      <th></th>\n",
       "      <th></th>\n",
       "      <th></th>\n",
       "      <th></th>\n",
       "      <th></th>\n",
       "    </tr>\n",
       "  </thead>\n",
       "  <tbody>\n",
       "    <tr>\n",
       "      <th>2023-12-29 00:00:00-05:00</th>\n",
       "      <td>498.106645</td>\n",
       "      <td>499.946555</td>\n",
       "      <td>487.487147</td>\n",
       "      <td>495.196777</td>\n",
       "      <td>38869000</td>\n",
       "      <td>0.0</td>\n",
       "      <td>0.0</td>\n",
       "      <td>2023-12-29</td>\n",
       "      <td>2023-12-29</td>\n",
       "      <td>2023-12-29</td>\n",
       "    </tr>\n",
       "  </tbody>\n",
       "</table>\n",
       "</div>"
      ],
      "text/plain": [
       "                                 Open        High         Low       Close  \\\n",
       "Date                                                                        \n",
       "2023-12-29 00:00:00-05:00  498.106645  499.946555  487.487147  495.196777   \n",
       "\n",
       "                             Volume  Dividends  Stock Splits       Date2  \\\n",
       "Date                                                                       \n",
       "2023-12-29 00:00:00-05:00  38869000        0.0           0.0  2023-12-29   \n",
       "\n",
       "                                Date        date  \n",
       "Date                                              \n",
       "2023-12-29 00:00:00-05:00 2023-12-29  2023-12-29  "
      ]
     },
     "execution_count": 25,
     "metadata": {},
     "output_type": "execute_result"
    }
   ],
   "source": [
    "last_day_of_year = nvidia_hist.loc['2023-12-29':'2023-12-29']\n",
    "last_day_of_year"
   ]
  },
  {
   "cell_type": "code",
   "execution_count": 26,
   "metadata": {},
   "outputs": [
    {
     "name": "stdout",
     "output_type": "stream",
     "text": [
      "2024-05-31 20:47:12.858018\n",
      "<class 'datetime.date'>\n"
     ]
    },
    {
     "data": {
      "text/plain": [
       "Date\n",
       "2024-05-31 00:00:00-04:00    1096.329956\n",
       "Name: Close, dtype: float64"
      ]
     },
     "execution_count": 26,
     "metadata": {},
     "output_type": "execute_result"
    }
   ],
   "source": [
    "today = datetime.today()\n",
    "print(today - BDay(1))\n",
    "last_biz_date = (today - BDay(1)).to_pydatetime().date()\n",
    "print(type(last_biz_date))\n",
    "nvidia_hist.query(\"Date == @last_biz_date\").Close"
   ]
  },
  {
   "cell_type": "markdown",
   "metadata": {},
   "source": [
    "### 5 year return"
   ]
  },
  {
   "cell_type": "code",
   "execution_count": 27,
   "metadata": {},
   "outputs": [
    {
     "data": {
      "text/plain": [
       "Date\n",
       "2019-08-05 00:00:00-04:00    37.484211\n",
       "Name: Close, dtype: float64"
      ]
     },
     "execution_count": 27,
     "metadata": {},
     "output_type": "execute_result"
    }
   ],
   "source": [
    "days_back = 252 * 5\n",
    "biz_date_5yrs = (today - BDay(days_back)).to_pydatetime().date()\n",
    "nvidia_hist.query(\"Date == @biz_date_5yrs\").Close"
   ]
  },
  {
   "cell_type": "code",
   "execution_count": 28,
   "metadata": {},
   "outputs": [
    {
     "name": "stderr",
     "output_type": "stream",
     "text": [
      "C:\\Users\\wrjod\\AppData\\Local\\Temp\\ipykernel_8\\2630929191.py:1: FutureWarning: The behavior of 'isin' with dtype=datetime64[ns] and castable values (e.g. strings) is deprecated. In a future version, these will not be considered matching by isin. Explicitly cast to the appropriate dtype before calling isin instead.\n",
      "  result_query = nvidia_hist.query(\"Date == '2024-12-30'\").Close #.values[0]\n"
     ]
    },
    {
     "data": {
      "text/plain": [
       "Series([], Name: Close, dtype: float64)"
      ]
     },
     "execution_count": 28,
     "metadata": {},
     "output_type": "execute_result"
    }
   ],
   "source": [
    "result_query = nvidia_hist.query(\"Date == '2024-12-30'\").Close #.values[0]\n",
    "result_query"
   ]
  },
  {
   "cell_type": "code",
   "execution_count": 29,
   "metadata": {},
   "outputs": [
    {
     "name": "stderr",
     "output_type": "stream",
     "text": [
      "C:\\Users\\wrjod\\AppData\\Local\\Temp\\ipykernel_8\\3165507215.py:1: FutureWarning: The behavior of 'isin' with dtype=datetime64[ns] and castable values (e.g. strings) is deprecated. In a future version, these will not be considered matching by isin. Explicitly cast to the appropriate dtype before calling isin instead.\n",
      "  result_query = nvidia_hist.query(\"Date == '2023-12-29'\")\n"
     ]
    },
    {
     "data": {
      "text/html": [
       "<div>\n",
       "<style scoped>\n",
       "    .dataframe tbody tr th:only-of-type {\n",
       "        vertical-align: middle;\n",
       "    }\n",
       "\n",
       "    .dataframe tbody tr th {\n",
       "        vertical-align: top;\n",
       "    }\n",
       "\n",
       "    .dataframe thead th {\n",
       "        text-align: right;\n",
       "    }\n",
       "</style>\n",
       "<table border=\"1\" class=\"dataframe\">\n",
       "  <thead>\n",
       "    <tr style=\"text-align: right;\">\n",
       "      <th></th>\n",
       "      <th>Open</th>\n",
       "      <th>High</th>\n",
       "      <th>Low</th>\n",
       "      <th>Close</th>\n",
       "      <th>Volume</th>\n",
       "      <th>Dividends</th>\n",
       "      <th>Stock Splits</th>\n",
       "      <th>Date2</th>\n",
       "      <th>Date</th>\n",
       "      <th>date</th>\n",
       "    </tr>\n",
       "    <tr>\n",
       "      <th>Date</th>\n",
       "      <th></th>\n",
       "      <th></th>\n",
       "      <th></th>\n",
       "      <th></th>\n",
       "      <th></th>\n",
       "      <th></th>\n",
       "      <th></th>\n",
       "      <th></th>\n",
       "      <th></th>\n",
       "      <th></th>\n",
       "    </tr>\n",
       "  </thead>\n",
       "  <tbody>\n",
       "    <tr>\n",
       "      <th>2023-12-29 00:00:00-05:00</th>\n",
       "      <td>498.106645</td>\n",
       "      <td>499.946555</td>\n",
       "      <td>487.487147</td>\n",
       "      <td>495.196777</td>\n",
       "      <td>38869000</td>\n",
       "      <td>0.0</td>\n",
       "      <td>0.0</td>\n",
       "      <td>2023-12-29</td>\n",
       "      <td>2023-12-29</td>\n",
       "      <td>2023-12-29</td>\n",
       "    </tr>\n",
       "  </tbody>\n",
       "</table>\n",
       "</div>"
      ],
      "text/plain": [
       "                                 Open        High         Low       Close  \\\n",
       "Date                                                                        \n",
       "2023-12-29 00:00:00-05:00  498.106645  499.946555  487.487147  495.196777   \n",
       "\n",
       "                             Volume  Dividends  Stock Splits       Date2  \\\n",
       "Date                                                                       \n",
       "2023-12-29 00:00:00-05:00  38869000        0.0           0.0  2023-12-29   \n",
       "\n",
       "                                Date        date  \n",
       "Date                                              \n",
       "2023-12-29 00:00:00-05:00 2023-12-29  2023-12-29  "
      ]
     },
     "execution_count": 29,
     "metadata": {},
     "output_type": "execute_result"
    }
   ],
   "source": [
    "result_query = nvidia_hist.query(\"Date == '2023-12-29'\")\n",
    "result_query"
   ]
  },
  {
   "cell_type": "code",
   "execution_count": 30,
   "metadata": {},
   "outputs": [
    {
     "name": "stdout",
     "output_type": "stream",
     "text": [
      "<class 'pandas.core.frame.DataFrame'>\n",
      "RangeIndex: 5 entries, 0 to 4\n",
      "Data columns (total 1 columns):\n",
      " #   Column  Non-Null Count  Dtype \n",
      "---  ------  --------------  ----- \n",
      " 0   Date    5 non-null      object\n",
      "dtypes: object(1)\n",
      "memory usage: 172.0+ bytes\n"
     ]
    }
   ],
   "source": [
    "df_date = pd.DataFrame({'Date': ['2023-12-26', '2023-12-27', '2023-12-28', '2023-12-29', '2024-01-01']})\n",
    "df_date.info()"
   ]
  },
  {
   "cell_type": "code",
   "execution_count": 31,
   "metadata": {},
   "outputs": [
    {
     "name": "stdout",
     "output_type": "stream",
     "text": [
      "<class 'pandas.core.frame.DataFrame'>\n",
      "RangeIndex: 5 entries, 0 to 4\n",
      "Data columns (total 1 columns):\n",
      " #   Column  Non-Null Count  Dtype         \n",
      "---  ------  --------------  -----         \n",
      " 0   Date    5 non-null      datetime64[ns]\n",
      "dtypes: datetime64[ns](1)\n",
      "memory usage: 172.0 bytes\n"
     ]
    }
   ],
   "source": [
    "df_date['Date'] = pd.to_datetime(df_date['Date'])\n",
    "df_date.info()"
   ]
  },
  {
   "cell_type": "code",
   "execution_count": 32,
   "metadata": {},
   "outputs": [
    {
     "data": {
      "text/html": [
       "<div>\n",
       "<style scoped>\n",
       "    .dataframe tbody tr th:only-of-type {\n",
       "        vertical-align: middle;\n",
       "    }\n",
       "\n",
       "    .dataframe tbody tr th {\n",
       "        vertical-align: top;\n",
       "    }\n",
       "\n",
       "    .dataframe thead th {\n",
       "        text-align: right;\n",
       "    }\n",
       "</style>\n",
       "<table border=\"1\" class=\"dataframe\">\n",
       "  <thead>\n",
       "    <tr style=\"text-align: right;\">\n",
       "      <th></th>\n",
       "      <th>Date</th>\n",
       "    </tr>\n",
       "  </thead>\n",
       "  <tbody>\n",
       "    <tr>\n",
       "      <th>4</th>\n",
       "      <td>2024-01-01</td>\n",
       "    </tr>\n",
       "  </tbody>\n",
       "</table>\n",
       "</div>"
      ],
      "text/plain": [
       "        Date\n",
       "4 2024-01-01"
      ]
     },
     "execution_count": 32,
     "metadata": {},
     "output_type": "execute_result"
    }
   ],
   "source": [
    "result_query = df_date.query(\"Date > '2023-12-29'\")\n",
    "result_query.head()"
   ]
  },
  {
   "cell_type": "code",
   "execution_count": 33,
   "metadata": {},
   "outputs": [
    {
     "data": {
      "text/plain": [
       "Date\n",
       "2023-12-29 00:00:00-05:00    495.196777\n",
       "Name: Close, dtype: float64"
      ]
     },
     "execution_count": 33,
     "metadata": {},
     "output_type": "execute_result"
    }
   ],
   "source": [
    "last_day_of_year.Close"
   ]
  },
  {
   "cell_type": "code",
   "execution_count": 34,
   "metadata": {},
   "outputs": [
    {
     "data": {
      "image/png": "[encoded data removed]",
      "text/plain": [
       "<Figure size 1500x400 with 1 Axes>"
      ]
     },
     "metadata": {},
     "output_type": "display_data"
    }
   ],
   "source": [
    "nvidia_hist['Open'].plot(figsize=(15,4), title=f\"NVDA\")\n",
    "snp_hist['Close'].plot(figsize=(15,4), title=f\"S&P\")\n",
    "plt.legend()\n",
    "plt.show()"
   ]
  },
  {
   "cell_type": "code",
   "execution_count": 35,
   "metadata": {},
   "outputs": [
    {
     "data": {
      "text/plain": [
       "<matplotlib.legend.Legend at 0x1c4e82f0590>"
      ]
     },
     "execution_count": 35,
     "metadata": {},
     "output_type": "execute_result"
    },
    {
     "data": {
      "image/png": "[encoded data removed]",
      "text/plain": [
       "<Figure size 1500x400 with 1 Axes>"
      ]
     },
     "metadata": {},
     "output_type": "display_data"
    }
   ],
   "source": [
    "nvidia_hist.tail(60)['Close'].plot(figsize=(15,4), title=f\"NVIDIA Close\", label='NVIDIA Close')\n",
    "plt.legend()"
   ]
  },
  {
   "cell_type": "code",
   "execution_count": 36,
   "metadata": {},
   "outputs": [
    {
     "data": {
      "text/plain": [
       "<Axes: xlabel='Date'>"
      ]
     },
     "execution_count": 36,
     "metadata": {},
     "output_type": "execute_result"
    },
    {
     "data": {
      "image/png": "[encoded data removed]",
      "text/plain": [
       "<Figure size 640x480 with 1 Axes>"
      ]
     },
     "metadata": {},
     "output_type": "display_data"
    }
   ],
   "source": [
    "nvidia_hist_last30.Close.plot()"
   ]
  },
  {
   "cell_type": "code",
   "execution_count": 37,
   "metadata": {},
   "outputs": [
    {
     "data": {
      "application/vnd.plotly.v1+json": {
       "config": {
        "plotlyServerURL": "https://plot.ly"
       },
       "data": [
        {
         "close": [
          949.5,
          1037.989990234375,
          1064.68994140625,
          1139.010009765625,
          1148.25,
          1105,
          1096.3299560546875
         ],
         "high": [
          960.2000122070312,
          1063.199951171875,
          1064.75,
          1149.3900146484375,
          1154.9200439453125,
          1158.18994140625,
          1127.1700439453125
         ],
         "low": [
          932.489990234375,
          1015.2000122070312,
          1030,
          1098.8299560546875,
          1109.010009765625,
          1096.6300048828125,
          1069.4000244140625
         ],
         "open": [
          954.5900268554688,
          1020.280029296875,
          1044.489990234375,
          1102.43994140625,
          1130.5,
          1146.5,
          1125.199951171875
         ],
         "type": "ohlc",
         "x": [
          "2024-04-19T00:00:00-04:00",
          "2024-04-22T00:00:00-04:00",
          "2024-04-23T00:00:00-04:00",
          "2024-04-24T00:00:00-04:00",
          "2024-04-25T00:00:00-04:00",
          "2024-04-26T00:00:00-04:00",
          "2024-04-29T00:00:00-04:00",
          "2024-04-30T00:00:00-04:00",
          "2024-05-01T00:00:00-04:00",
          "2024-05-02T00:00:00-04:00",
          "2024-05-03T00:00:00-04:00",
          "2024-05-06T00:00:00-04:00",
          "2024-05-07T00:00:00-04:00",
          "2024-05-08T00:00:00-04:00",
          "2024-05-09T00:00:00-04:00",
          "2024-05-10T00:00:00-04:00",
          "2024-05-13T00:00:00-04:00",
          "2024-05-14T00:00:00-04:00",
          "2024-05-15T00:00:00-04:00",
          "2024-05-16T00:00:00-04:00",
          "2024-05-17T00:00:00-04:00",
          "2024-05-20T00:00:00-04:00",
          "2024-05-21T00:00:00-04:00",
          "2024-05-22T00:00:00-04:00",
          "2024-05-23T00:00:00-04:00",
          "2024-05-24T00:00:00-04:00",
          "2024-05-28T00:00:00-04:00",
          "2024-05-29T00:00:00-04:00",
          "2024-05-30T00:00:00-04:00",
          "2024-05-31T00:00:00-04:00"
         ]
        }
       ],
       "layout": {
        "template": {
         "data": {
          "bar": [
           {
            "error_x": {
             "color": "#2a3f5f"
            },
            "error_y": {
             "color": "#2a3f5f"
            },
            "marker": {
             "line": {
              "color": "#E5ECF6",
              "width": 0.5
             },
             "pattern": {
              "fillmode": "overlay",
              "size": 10,
              "solidity": 0.2
             }
            },
            "type": "bar"
           }
          ],
          "barpolar": [
           {
            "marker": {
             "line": {
              "color": "#E5ECF6",
              "width": 0.5
             },
             "pattern": {
              "fillmode": "overlay",
              "size": 10,
              "solidity": 0.2
             }
            },
            "type": "barpolar"
           }
          ],
          "carpet": [
           {
            "aaxis": {
             "endlinecolor": "#2a3f5f",
             "gridcolor": "white",
             "linecolor": "white",
             "minorgridcolor": "white",
             "startlinecolor": "#2a3f5f"
            },
            "baxis": {
             "endlinecolor": "#2a3f5f",
             "gridcolor": "white",
             "linecolor": "white",
             "minorgridcolor": "white",
             "startlinecolor": "#2a3f5f"
            },
            "type": "carpet"
           }
          ],
          "choropleth": [
           {
            "colorbar": {
             "outlinewidth": 0,
             "ticks": ""
            },
            "type": "choropleth"
           }
          ],
          "contour": [
           {
            "colorbar": {
             "outlinewidth": 0,
             "ticks": ""
            },
            "colorscale": [
             [
              0,
              "#0d0887"
             ],
             [
              0.1111111111111111,
              "#46039f"
             ],
             [
              0.2222222222222222,
              "#7201a8"
             ],
             [
              0.3333333333333333,
              "#9c179e"
             ],
             [
              0.4444444444444444,
              "#bd3786"
             ],
             [
              0.5555555555555556,
              "#d8576b"
             ],
             [
              0.6666666666666666,
              "#ed7953"
             ],
             [
              0.7777777777777778,
              "#fb9f3a"
             ],
             [
              0.8888888888888888,
              "#fdca26"
             ],
             [
              1,
              "#f0f921"
             ]
            ],
            "type": "contour"
           }
          ],
          "contourcarpet": [
           {
            "colorbar": {
             "outlinewidth": 0,
             "ticks": ""
            },
            "type": "contourcarpet"
           }
          ],
          "heatmap": [
           {
            "colorbar": {
             "outlinewidth": 0,
             "ticks": ""
            },
            "colorscale": [
             [
              0,
              "#0d0887"
             ],
             [
              0.1111111111111111,
              "#46039f"
             ],
             [
              0.2222222222222222,
              "#7201a8"
             ],
             [
              0.3333333333333333,
              "#9c179e"
             ],
             [
              0.4444444444444444,
              "#bd3786"
             ],
             [
              0.5555555555555556,
              "#d8576b"
             ],
             [
              0.6666666666666666,
              "#ed7953"
             ],
             [
              0.7777777777777778,
              "#fb9f3a"
             ],
             [
              0.8888888888888888,
              "#fdca26"
             ],
             [
              1,
              "#f0f921"
             ]
            ],
            "type": "heatmap"
           }
          ],
          "heatmapgl": [
           {
            "colorbar": {
             "outlinewidth": 0,
             "ticks": ""
            },
            "colorscale": [
             [
              0,
              "#0d0887"
             ],
             [
              0.1111111111111111,
              "#46039f"
             ],
             [
              0.2222222222222222,
              "#7201a8"
             ],
             [
              0.3333333333333333,
              "#9c179e"
             ],
             [
              0.4444444444444444,
              "#bd3786"
             ],
             [
              0.5555555555555556,
              "#d8576b"
             ],
             [
              0.6666666666666666,
              "#ed7953"
             ],
             [
              0.7777777777777778,
              "#fb9f3a"
             ],
             [
              0.8888888888888888,
              "#fdca26"
             ],
             [
              1,
              "#f0f921"
             ]
            ],
            "type": "heatmapgl"
           }
          ],
          "histogram": [
           {
            "marker": {
             "pattern": {
              "fillmode": "overlay",
              "size": 10,
              "solidity": 0.2
             }
            },
            "type": "histogram"
           }
          ],
          "histogram2d": [
           {
            "colorbar": {
             "outlinewidth": 0,
             "ticks": ""
            },
            "colorscale": [
             [
              0,
              "#0d0887"
             ],
             [
              0.1111111111111111,
              "#46039f"
             ],
             [
              0.2222222222222222,
              "#7201a8"
             ],
             [
              0.3333333333333333,
              "#9c179e"
             ],
             [
              0.4444444444444444,
              "#bd3786"
             ],
             [
              0.5555555555555556,
              "#d8576b"
             ],
             [
              0.6666666666666666,
              "#ed7953"
             ],
             [
              0.7777777777777778,
              "#fb9f3a"
             ],
             [
              0.8888888888888888,
              "#fdca26"
             ],
             [
              1,
              "#f0f921"
             ]
            ],
            "type": "histogram2d"
           }
          ],
          "histogram2dcontour": [
           {
            "colorbar": {
             "outlinewidth": 0,
             "ticks": ""
            },
            "colorscale": [
             [
              0,
              "#0d0887"
             ],
             [
              0.1111111111111111,
              "#46039f"
             ],
             [
              0.2222222222222222,
              "#7201a8"
             ],
             [
              0.3333333333333333,
              "#9c179e"
             ],
             [
              0.4444444444444444,
              "#bd3786"
             ],
             [
              0.5555555555555556,
              "#d8576b"
             ],
             [
              0.6666666666666666,
              "#ed7953"
             ],
             [
              0.7777777777777778,
              "#fb9f3a"
             ],
             [
              0.8888888888888888,
              "#fdca26"
             ],
             [
              1,
              "#f0f921"
             ]
            ],
            "type": "histogram2dcontour"
           }
          ],
          "mesh3d": [
           {
            "colorbar": {
             "outlinewidth": 0,
             "ticks": ""
            },
            "type": "mesh3d"
           }
          ],
          "parcoords": [
           {
            "line": {
             "colorbar": {
              "outlinewidth": 0,
              "ticks": ""
             }
            },
            "type": "parcoords"
           }
          ],
          "pie": [
           {
            "automargin": true,
            "type": "pie"
           }
          ],
          "scatter": [
           {
            "fillpattern": {
             "fillmode": "overlay",
             "size": 10,
             "solidity": 0.2
            },
            "type": "scatter"
           }
          ],
          "scatter3d": [
           {
            "line": {
             "colorbar": {
              "outlinewidth": 0,
              "ticks": ""
             }
            },
            "marker": {
             "colorbar": {
              "outlinewidth": 0,
              "ticks": ""
             }
            },
            "type": "scatter3d"
           }
          ],
          "scattercarpet": [
           {
            "marker": {
             "colorbar": {
              "outlinewidth": 0,
              "ticks": ""
             }
            },
            "type": "scattercarpet"
           }
          ],
          "scattergeo": [
           {
            "marker": {
             "colorbar": {
              "outlinewidth": 0,
              "ticks": ""
             }
            },
            "type": "scattergeo"
           }
          ],
          "scattergl": [
           {
            "marker": {
             "colorbar": {
              "outlinewidth": 0,
              "ticks": ""
             }
            },
            "type": "scattergl"
           }
          ],
          "scattermapbox": [
           {
            "marker": {
             "colorbar": {
              "outlinewidth": 0,
              "ticks": ""
             }
            },
            "type": "scattermapbox"
           }
          ],
          "scatterpolar": [
           {
            "marker": {
             "colorbar": {
              "outlinewidth": 0,
              "ticks": ""
             }
            },
            "type": "scatterpolar"
           }
          ],
          "scatterpolargl": [
           {
            "marker": {
             "colorbar": {
              "outlinewidth": 0,
              "ticks": ""
             }
            },
            "type": "scatterpolargl"
           }
          ],
          "scatterternary": [
           {
            "marker": {
             "colorbar": {
              "outlinewidth": 0,
              "ticks": ""
             }
            },
            "type": "scatterternary"
           }
          ],
          "surface": [
           {
            "colorbar": {
             "outlinewidth": 0,
             "ticks": ""
            },
            "colorscale": [
             [
              0,
              "#0d0887"
             ],
             [
              0.1111111111111111,
              "#46039f"
             ],
             [
              0.2222222222222222,
              "#7201a8"
             ],
             [
              0.3333333333333333,
              "#9c179e"
             ],
             [
              0.4444444444444444,
              "#bd3786"
             ],
             [
              0.5555555555555556,
              "#d8576b"
             ],
             [
              0.6666666666666666,
              "#ed7953"
             ],
             [
              0.7777777777777778,
              "#fb9f3a"
             ],
             [
              0.8888888888888888,
              "#fdca26"
             ],
             [
              1,
              "#f0f921"
             ]
            ],
            "type": "surface"
           }
          ],
          "table": [
           {
            "cells": {
             "fill": {
              "color": "#EBF0F8"
             },
             "line": {
              "color": "white"
             }
            },
            "header": {
             "fill": {
              "color": "#C8D4E3"
             },
             "line": {
              "color": "white"
             }
            },
            "type": "table"
           }
          ]
         },
         "layout": {
          "annotationdefaults": {
           "arrowcolor": "#2a3f5f",
           "arrowhead": 0,
           "arrowwidth": 1
          },
          "autotypenumbers": "strict",
          "coloraxis": {
           "colorbar": {
            "outlinewidth": 0,
            "ticks": ""
           }
          },
          "colorscale": {
           "diverging": [
            [
             0,
             "#8e0152"
            ],
            [
             0.1,
             "#c51b7d"
            ],
            [
             0.2,
             "#de77ae"
            ],
            [
             0.3,
             "#f1b6da"
            ],
            [
             0.4,
             "#fde0ef"
            ],
            [
             0.5,
             "#f7f7f7"
            ],
            [
             0.6,
             "#e6f5d0"
            ],
            [
             0.7,
             "#b8e186"
            ],
            [
             0.8,
             "#7fbc41"
            ],
            [
             0.9,
             "#4d9221"
            ],
            [
             1,
             "#276419"
            ]
           ],
           "sequential": [
            [
             0,
             "#0d0887"
            ],
            [
             0.1111111111111111,
             "#46039f"
            ],
            [
             0.2222222222222222,
             "#7201a8"
            ],
            [
             0.3333333333333333,
             "#9c179e"
            ],
            [
             0.4444444444444444,
             "#bd3786"
            ],
            [
             0.5555555555555556,
             "#d8576b"
            ],
            [
             0.6666666666666666,
             "#ed7953"
            ],
            [
             0.7777777777777778,
             "#fb9f3a"
            ],
            [
             0.8888888888888888,
             "#fdca26"
            ],
            [
             1,
             "#f0f921"
            ]
           ],
           "sequentialminus": [
            [
             0,
             "#0d0887"
            ],
            [
             0.1111111111111111,
             "#46039f"
            ],
            [
             0.2222222222222222,
             "#7201a8"
            ],
            [
             0.3333333333333333,
             "#9c179e"
            ],
            [
             0.4444444444444444,
             "#bd3786"
            ],
            [
             0.5555555555555556,
             "#d8576b"
            ],
            [
             0.6666666666666666,
             "#ed7953"
            ],
            [
             0.7777777777777778,
             "#fb9f3a"
            ],
            [
             0.8888888888888888,
             "#fdca26"
            ],
            [
             1,
             "#f0f921"
            ]
           ]
          },
          "colorway": [
           "#636efa",
           "#EF553B",
           "#00cc96",
           "#ab63fa",
           "#FFA15A",
           "#19d3f3",
           "#FF6692",
           "#B6E880",
           "#FF97FF",
           "#FECB52"
          ],
          "font": {
           "color": "#2a3f5f"
          },
          "geo": {
           "bgcolor": "white",
           "lakecolor": "white",
           "landcolor": "#E5ECF6",
           "showlakes": true,
           "showland": true,
           "subunitcolor": "white"
          },
          "hoverlabel": {
           "align": "left"
          },
          "hovermode": "closest",
          "mapbox": {
           "style": "light"
          },
          "paper_bgcolor": "white",
          "plot_bgcolor": "#E5ECF6",
          "polar": {
           "angularaxis": {
            "gridcolor": "white",
            "linecolor": "white",
            "ticks": ""
           },
           "bgcolor": "#E5ECF6",
           "radialaxis": {
            "gridcolor": "white",
            "linecolor": "white",
            "ticks": ""
           }
          },
          "scene": {
           "xaxis": {
            "backgroundcolor": "#E5ECF6",
            "gridcolor": "white",
            "gridwidth": 2,
            "linecolor": "white",
            "showbackground": true,
            "ticks": "",
            "zerolinecolor": "white"
           },
           "yaxis": {
            "backgroundcolor": "#E5ECF6",
            "gridcolor": "white",
            "gridwidth": 2,
            "linecolor": "white",
            "showbackground": true,
            "ticks": "",
            "zerolinecolor": "white"
           },
           "zaxis": {
            "backgroundcolor": "#E5ECF6",
            "gridcolor": "white",
            "gridwidth": 2,
            "linecolor": "white",
            "showbackground": true,
            "ticks": "",
            "zerolinecolor": "white"
           }
          },
          "shapedefaults": {
           "line": {
            "color": "#2a3f5f"
           }
          },
          "ternary": {
           "aaxis": {
            "gridcolor": "white",
            "linecolor": "white",
            "ticks": ""
           },
           "baxis": {
            "gridcolor": "white",
            "linecolor": "white",
            "ticks": ""
           },
           "bgcolor": "#E5ECF6",
           "caxis": {
            "gridcolor": "white",
            "linecolor": "white",
            "ticks": ""
           }
          },
          "title": {
           "x": 0.05
          },
          "xaxis": {
           "automargin": true,
           "gridcolor": "white",
           "linecolor": "white",
           "ticks": "",
           "title": {
            "standoff": 15
           },
           "zerolinecolor": "white",
           "zerolinewidth": 2
          },
          "yaxis": {
           "automargin": true,
           "gridcolor": "white",
           "linecolor": "white",
           "ticks": "",
           "title": {
            "standoff": 15
           },
           "zerolinecolor": "white",
           "zerolinewidth": 2
          }
         }
        },
        "xaxis": {
         "rangeslider": {
          "visible": false
         },
         "title": {
          "text": "Time"
         }
        }
       }
      }
     },
     "metadata": {},
     "output_type": "display_data"
    }
   ],
   "source": [
    "ohlc = go.Figure(data = [go.Ohlc(x=nvidia_hist_last30.index, \n",
    "                                               open = nvidia_hist_last7[('Open')], \n",
    "                                               high = nvidia_hist_last7[('High')], \n",
    "                                               low = nvidia_hist_last7[('Low')], \n",
    "                                               close = nvidia_hist_last7[('Close')])])\n",
    "ohlc.update_xaxes(title_text = 'Time',\n",
    "                             rangeslider_visible = False)"
   ]
  },
  {
   "cell_type": "code",
   "execution_count": 38,
   "metadata": {},
   "outputs": [
    {
     "name": "stdout",
     "output_type": "stream",
     "text": [
      "52wk Change: 179.88%\n",
      "PEG: 0.88\n",
      "Trailing PEG: 1.37\n",
      "Forward PE: 30.74\n",
      "Trailing PE: 64.11\n",
      "Short Ratio: 0.64\n"
     ]
    }
   ],
   "source": [
    "stock = yf.Ticker(\"NVDA\")\n",
    "\n",
    "def show_stock_info(stock:yf.ticker.Ticker) -> None:\n",
    "    \n",
    "    print(f\"52wk Change: {stock.info['52WeekChange']*100:.2f}%\")\n",
    "    print(f\"PEG: {stock.info['pegRatio']}\")\n",
    "    print(f\"Trailing PEG: {stock.info['trailingPegRatio']:.2f}\")\n",
    "    print(f\"Forward PE: {stock.info['forwardPE']:.2f}\")\n",
    "    print(f\"Trailing PE: {stock.info['trailingPE']:.2f}\")\n",
    "    print(f\"Short Ratio: {stock.info['shortRatio']:.2f}\")\n",
    "\n",
    "show_stock_info(stock)"
   ]
  },
  {
   "cell_type": "code",
   "execution_count": 39,
   "metadata": {},
   "outputs": [
    {
     "ename": "",
     "evalue": "",
     "output_type": "error",
     "traceback": [
      "\u001b[1;31mThe Kernel crashed while executing code in the current cell or a previous cell. \n",
      "\u001b[1;31mPlease review the code in the cell(s) to identify a possible cause of the failure. \n",
      "\u001b[1;31mClick <a href='https://aka.ms/vscodeJupyterKernelCrash'>here</a> for more info. \n",
      "\u001b[1;31mView Jupyter <a href='command:jupyter.viewOutput'>log</a> for further details."
     ]
    }
   ],
   "source": [
    "nvidia_hist.to_csv('dataset/nvidia_data.csv')"
   ]
  }
 ],
 "metadata": {
  "kernelspec": {
   "display_name": "venv",
   "language": "python",
   "name": "python3"
  },
  "language_info": {
   "codemirror_mode": {
    "name": "ipython",
    "version": 3
   },
   "file_extension": ".py",
   "mimetype": "text/x-python",
   "name": "python",
   "nbconvert_exporter": "python",
   "pygments_lexer": "ipython3",
   "version": "3.11.5"
  }
 },
 "nbformat": 4,
 "nbformat_minor": 2
}
